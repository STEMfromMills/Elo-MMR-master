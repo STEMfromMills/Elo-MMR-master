{
 "cells": [
  {
   "cell_type": "code",
   "execution_count": null,
   "metadata": {},
   "outputs": [],
   "source": [
    "import os\n",
    "import numpy as np\n",
    "import math\n",
    "import json\n",
    "\n",
    "mu_noob = 1500\n",
    "sig_noob = 350\n",
    "sig_perf = 200\n",
    "sig_noise = 35\n",
    "logistic = True\n",
    "\n",
    "def np_random_custom(mu, sig, size=None):\n",
    "    if logistic:\n",
    "        return np.random.logistic(mu, sig * math.sqrt(3) / math.pi, size)\n",
    "    else:\n",
    "        return np.random.normal(mu, sig, size)\n",
    "\n",
    "def make_dataset(dataset_name, pool_players, num_players, num_rounds):\n",
    "    os.makedirs('../../cache/{}'.format(dataset_name), exist_ok=True)\n",
    "    skills = np.random.normal(mu_noob, sig_noob, pool_players)\n",
    "    \n",
    "    for idx in range(num_rounds):\n",
    "        participants = np.random.choice(pool_players, num_players, replace=False)\n",
    "        \n",
    "        skills[participants] += np.random.normal(0, sig_noise, num_players)\n",
    "        perfs = skills[participants] + np_random_custom(0, sig_perf, num_players)\n",
    "\n",
    "        rankings = zip(perfs, participants)\n",
    "        rankings = reversed(sorted(rankings))\n",
    "\n",
    "        data = {}\n",
    "        data['id'] = idx\n",
    "        data['name'] = \"Round #{}\".format(idx)\n",
    "        data['time_seconds'] = idx * 86400\n",
    "\n",
    "        standings = []\n",
    "        data['standings'] = standings\n",
    "        for i, rank in enumerate(rankings):\n",
    "            standings.append([\"P{}\".format(rank[1]), i, i])\n",
    "        with open('../../cache/{}/{}.json'.format(dataset_name, idx), 'w') as out:\n",
    "            json.dump(data, out)"
   ]
  },
  {
   "cell_type": "code",
   "execution_count": null,
   "metadata": {},
   "outputs": [],
   "source": [
    "make_dataset(\"synth-sm\", 1000, 5, 15000)\n",
    "make_dataset(\"synth-la\", 100000, 100000, 60)"
   ]
  },
  {
   "cell_type": "code",
   "execution_count": null,
   "metadata": {},
   "outputs": [],
   "source": []
  }
 ],
 "metadata": {
  "kernelspec": {
   "display_name": "Python 3",
   "language": "python",
   "name": "python3"
  },
  "language_info": {
   "codemirror_mode": {
    "name": "ipython",
    "version": 3
   },
   "file_extension": ".py",
   "mimetype": "text/x-python",
   "name": "python",
   "nbconvert_exporter": "python",
   "pygments_lexer": "ipython3",
   "version": "3.8.5"
  }
 },
 "nbformat": 4,
 "nbformat_minor": 4
}
