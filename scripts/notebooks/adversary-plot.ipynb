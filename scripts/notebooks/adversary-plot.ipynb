{
 "cells": [
  {
   "cell_type": "code",
   "execution_count": null,
   "metadata": {},
   "outputs": [],
   "source": [
    "%matplotlib notebook\n",
    "%matplotlib widget\n",
    "%matplotlib inline\n",
    "\n",
    "import json\n",
    "\n",
    "prefix = \"../data/output/adversarial/\"\n",
    "tc_normal = json.load(open(prefix + \"tourist_tc_normal.json\"))\n",
    "tc_advs = json.load(open(prefix + \"tourist_tc_adversarial.json\"))\n",
    "mmr_normal = json.load(open(prefix + \"tourist_mmr_normal.json\"))\n",
    "mmr_advs = json.load(open(prefix + \"tourist_mmr_adversarial.json\"))"
   ]
  },
  {
   "cell_type": "code",
   "execution_count": null,
   "metadata": {},
   "outputs": [],
   "source": [
    "#import seaborn as sns\n",
    "from seaborn import lineplot\n",
    "import matplotlib.pyplot as plt\n",
    "\n",
    "#plt.rcParams[\"figure.figsize\"] = (3.5,4*3.5/5)\n",
    "\n",
    "#sns.set(rc={'figure.figsize':(3.7,3.7)})\n",
    "\n",
    "get_ratings = lambda js : [1500] + [c['rating_mu'] for c in js]\n",
    "\n",
    "jsons = [tc_normal, tc_advs, mmr_normal, mmr_advs]\n",
    "zorder = [1, 0, 1, 0]\n",
    "names = [\"Topcoder (honest)\", \"Topcoder (adversarial)\", \"Elo-MMR (honest)\", \"Elo-MMR (adversarial)\"]\n",
    "for idx, (rating_json, name, z) in enumerate(zip(jsons, names, zorder)):\n",
    "    ratings = get_ratings(rating_json)\n",
    "    contestnum = list(range(len(ratings)))\n",
    "    \n",
    "#    if name == names[0] or name == names[2]:\n",
    "#        plt.figure(figsize=(6.4, 4))\n",
    "    plot = lineplot(contestnum, ratings, label=name, zorder=z)\n",
    "    plot.legend(frameon=False, fontsize=14, loc=\"upper left\")\n",
    "    plot.set_xlabel(\"Contest #\", fontsize=14)\n",
    "    plot.set_ylabel(\"Rating\", fontsize=14)\n",
    "    plot.set_xlim(0, 105)\n",
    "    plot.set_ylim(1750, 3850)\n",
    "#     plot.axes.set_aspect(1.0/15)\n",
    "    \n",
    "#     if idx == 2 or idx == 3:\n",
    "#         plot.axes.get_yaxis().set_visible(False)\n",
    "    \n",
    "    plt.tight_layout()\n",
    "    \n",
    "    if idx == 1:\n",
    "        plt.savefig('topcoder.eps', bbox_inches='tight', dpi = 400)\n",
    "        plt.figure()\n",
    "        \n",
    "    if idx == 3:\n",
    "        plt.savefig('elo-mmr.eps', bbox_inches='tight', dpi = 400)\n",
    "        \n"
   ]
  },
  {
   "cell_type": "code",
   "execution_count": null,
   "metadata": {},
   "outputs": [],
   "source": [
    "len(ratings) # get_ratings(jsons[0])"
   ]
  },
  {
   "cell_type": "code",
   "execution_count": null,
   "metadata": {},
   "outputs": [],
   "source": []
  }
 ],
 "metadata": {
  "kernelspec": {
   "display_name": "Python 3",
   "language": "python",
   "name": "python3"
  },
  "language_info": {
   "codemirror_mode": {
    "name": "ipython",
    "version": 3
   },
   "file_extension": ".py",
   "mimetype": "text/x-python",
   "name": "python",
   "nbconvert_exporter": "python",
   "pygments_lexer": "ipython3",
   "version": "3.8.5"
  }
 },
 "nbformat": 4,
 "nbformat_minor": 4
}
